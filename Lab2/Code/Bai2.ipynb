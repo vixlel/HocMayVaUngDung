{
 "cells": [
  {
   "cell_type": "code",
   "execution_count": 3,
   "metadata": {},
   "outputs": [
    {
     "data": {
      "text/plain": [
       "(0.9,\n",
       " '              precision    recall  f1-score   support\\n\\n       DrugY       1.00      0.73      0.85        15\\n       drugA       0.75      1.00      0.86         6\\n       drugB       0.75      1.00      0.86         3\\n       drugC       0.83      1.00      0.91         5\\n       drugX       1.00      1.00      1.00        11\\n\\n    accuracy                           0.90        40\\n   macro avg       0.87      0.95      0.89        40\\nweighted avg       0.92      0.90      0.90        40\\n')"
      ]
     },
     "execution_count": 3,
     "metadata": {},
     "output_type": "execute_result"
    }
   ],
   "source": [
    "# Importing the required library\n",
    "import pandas as pd\n",
    "\n",
    "# Load the new uploaded CSV file to inspect its contents\n",
    "file_path = 'C:/Users/ADMIN/Desktop/Hoc May va Ung Dung/Lab2/drug.csv'\n",
    "data = pd.read_csv(file_path)\n",
    "# Display the first few rows of the dataset to understand its structure\n",
    "data.head()\n",
    "import pandas as pd\n",
    "from sklearn.model_selection import train_test_split\n",
    "from sklearn.preprocessing import LabelEncoder\n",
    "from sklearn.naive_bayes import GaussianNB\n",
    "from sklearn.metrics import accuracy_score, classification_report\n",
    "\n",
    "# Convert categorical features to numerical using LabelEncoder\n",
    "le_Age = LabelEncoder()\n",
    "le_sex = LabelEncoder()\n",
    "le_bp = LabelEncoder()\n",
    "le_cholesterol = LabelEncoder()\n",
    "le_Na_to_K = LabelEncoder()\n",
    "\n",
    "\n",
    "data['Age'] = le_Age.fit_transform(data['Age'])\n",
    "data['Sex'] = le_sex.fit_transform(data['Sex'])\n",
    "data['BP'] = le_bp.fit_transform(data['BP'])\n",
    "data['Cholesterol'] = le_cholesterol.fit_transform(data['Cholesterol'])\n",
    "data['Na_to_K'] = le_Na_to_K.fit_transform(data['Na_to_K'])\n",
    "\n",
    "# Prepare the data\n",
    "X = data[['Age', 'Sex', 'BP', 'Cholesterol', 'Na_to_K']]  # Features\n",
    "y = data['Drug']  # Target\n",
    "\n",
    "# Split the data into training and testing sets\n",
    "X_train, X_test, y_train, y_test = train_test_split(X, y, test_size=0.2, random_state=42)\n",
    "\n",
    "# Apply Gaussian Naive Bayes\n",
    "gaussian_nb = GaussianNB()\n",
    "gaussian_nb.fit(X_train, y_train)\n",
    "y_pred = gaussian_nb.predict(X_test)\n",
    "\n",
    "# Evaluate the model\n",
    "accuracy = accuracy_score(y_test, y_pred)\n",
    "report = classification_report(y_test, y_pred)\n",
    "\n",
    "# Output results\n",
    "accuracy, report\n"
   ]
  }
 ],
 "metadata": {
  "kernelspec": {
   "display_name": "Python 3 (ipykernel)",
   "language": "python",
   "name": "python3"
  },
  "language_info": {
   "codemirror_mode": {
    "name": "ipython",
    "version": 3
   },
   "file_extension": ".py",
   "mimetype": "text/x-python",
   "name": "python",
   "nbconvert_exporter": "python",
   "pygments_lexer": "ipython3",
   "version": "3.11.7"
  }
 },
 "nbformat": 4,
 "nbformat_minor": 4
}
