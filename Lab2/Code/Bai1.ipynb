{
 "cells": [
  {
   "cell_type": "code",
   "execution_count": 3,
   "id": "3b16be99-274b-4ab6-8811-dc2eb40d269c",
   "metadata": {},
   "outputs": [
    {
     "name": "stdout",
     "output_type": "stream",
     "text": [
      "0.5454545454545454 0.6363636363636364               precision    recall  f1-score   support\n",
      "\n",
      "    negative       0.44      1.00      0.62         4\n",
      "    positive       1.00      0.29      0.44         7\n",
      "\n",
      "    accuracy                           0.55        11\n",
      "   macro avg       0.72      0.64      0.53        11\n",
      "weighted avg       0.80      0.55      0.51        11\n",
      "               precision    recall  f1-score   support\n",
      "\n",
      "    negative       0.50      1.00      0.67         4\n",
      "    positive       1.00      0.43      0.60         7\n",
      "\n",
      "    accuracy                           0.64        11\n",
      "   macro avg       0.75      0.71      0.63        11\n",
      "weighted avg       0.82      0.64      0.62        11\n",
      "\n"
     ]
    }
   ],
   "source": [
    "import pandas as pd\n",
    "\n",
    "# Load the uploaded CSV file to inspect its contents\n",
    "file_path = 'C:/Users/ADMIN/Desktop/Hoc May va Ung Dung/Lab2/Education.csv'\n",
    "data = pd.read_csv(file_path)\n",
    "\n",
    "# Display the first few rows of the dataset to understand its structure\n",
    "data.head()\n",
    "from sklearn.model_selection import train_test_split\n",
    "from sklearn.feature_extraction.text import CountVectorizer\n",
    "from sklearn.naive_bayes import BernoulliNB, MultinomialNB\n",
    "from sklearn.metrics import accuracy_score, classification_report\n",
    "\n",
    "# Prepare the data\n",
    "X = data['Text']  # Text data\n",
    "y = data['Label'].apply(lambda x: 1 if x == 'positive' else 0)  # Convert labels to binary (positive=1, negative=0)\n",
    "\n",
    "# Split the data into training and testing sets\n",
    "X_train, X_test, y_train, y_test = train_test_split(X, y, test_size=0.2, random_state=42)\n",
    "\n",
    "# Vectorize the text data\n",
    "vectorizer = CountVectorizer(binary=True)  # Binary=True for Bernoulli distribution\n",
    "X_train_vec = vectorizer.fit_transform(X_train)\n",
    "X_test_vec = vectorizer.transform(X_test)\n",
    "\n",
    "# Apply Bernoulli Naive Bayes\n",
    "bernoulli_nb = BernoulliNB()\n",
    "bernoulli_nb.fit(X_train_vec, y_train)\n",
    "y_pred_bernoulli = bernoulli_nb.predict(X_test_vec)\n",
    "\n",
    "# Apply Multinomial Naive Bayes\n",
    "multinomial_nb = MultinomialNB()\n",
    "multinomial_nb.fit(X_train_vec, y_train)\n",
    "y_pred_multinomial = multinomial_nb.predict(X_test_vec)\n",
    "\n",
    "# Compare accuracy of both models\n",
    "accuracy_bernoulli = accuracy_score(y_test, y_pred_bernoulli)\n",
    "accuracy_multinomial = accuracy_score(y_test, y_pred_multinomial)\n",
    "\n",
    "# Generate classification reports\n",
    "report_bernoulli = classification_report(y_test, y_pred_bernoulli, target_names=['negative', 'positive'])\n",
    "report_multinomial = classification_report(y_test, y_pred_multinomial, target_names=['negative', 'positive'])\n",
    "\n",
    "print(accuracy_bernoulli, accuracy_multinomial, report_bernoulli, report_multinomial)\n"
   ]
  },
  {
   "cell_type": "code",
   "execution_count": null,
   "id": "ddb61603-11ac-4fd6-b316-bbc8e66a99cf",
   "metadata": {},
   "outputs": [],
   "source": []
  },
  {
   "cell_type": "code",
   "execution_count": null,
   "id": "8ac8f58a-d3e8-436e-bb0b-3fe1c580495a",
   "metadata": {},
   "outputs": [],
   "source": []
  }
 ],
 "metadata": {
  "kernelspec": {
   "display_name": "Python 3 (ipykernel)",
   "language": "python",
   "name": "python3"
  },
  "language_info": {
   "codemirror_mode": {
    "name": "ipython",
    "version": 3
   },
   "file_extension": ".py",
   "mimetype": "text/x-python",
   "name": "python",
   "nbconvert_exporter": "python",
   "pygments_lexer": "ipython3",
   "version": "3.11.7"
  }
 },
 "nbformat": 4,
 "nbformat_minor": 5
}
